{
 "cells": [
  {
   "cell_type": "code",
   "execution_count": 1,
   "metadata": {
    "collapsed": true
   },
   "outputs": [],
   "source": [
    "import tensorflow as tf\n",
    "import numpy as np\n",
    "from tensorflow.examples.tutorials.mnist import input_data"
   ]
  },
  {
   "cell_type": "code",
   "execution_count": 2,
   "metadata": {
    "collapsed": false
   },
   "outputs": [
    {
     "name": "stdout",
     "output_type": "stream",
     "text": [
      "Extracting MNIST_data/train-images-idx3-ubyte.gz\n",
      "Extracting MNIST_data/train-labels-idx1-ubyte.gz\n",
      "Extracting MNIST_data/t10k-images-idx3-ubyte.gz\n",
      "Extracting MNIST_data/t10k-labels-idx1-ubyte.gz\n"
     ]
    }
   ],
   "source": [
    "def init_weights(shape):\n",
    "    return tf.Variable(tf.random_normal(shape, stddev=0.01))\n",
    "\n",
    "def model(X, w):\n",
    "    return tf.matmul(X, w) # notice we use the same model as linear regression, this is because there is a baked in cost function which performs softmax and cross entropy\n",
    "\n",
    "mnist = input_data.read_data_sets(\"MNIST_data/\", one_hot=True)\n",
    "trX, trY, teX, teY = mnist.train.images, mnist.train.labels, mnist.test.images, mnist.test.labels"
   ]
  },
  {
   "cell_type": "code",
   "execution_count": 3,
   "metadata": {
    "collapsed": true
   },
   "outputs": [],
   "source": [
    "X = tf.placeholder(\"float\", [None, 784]) # create symbolic variables\n",
    "Y = tf.placeholder(\"float\", [None, 10])\n",
    "\n",
    "w = init_weights([784, 10]) # like in linear regression, we need a shared variable weight matrix for logistic regression\n",
    "\n",
    "py_x = model(X, w)\n",
    "\n",
    "cost = tf.reduce_mean(tf.nn.softmax_cross_entropy_with_logits(py_x, Y)) # compute mean cross entropy (softmax is applied internally)\n",
    "train_op = tf.train.GradientDescentOptimizer(0.05).minimize(cost) # construct optimizer\n",
    "predict_op = tf.argmax(py_x, 1) # at predict time, evaluate the argmax of the logistic regression"
   ]
  },
  {
   "cell_type": "code",
   "execution_count": 4,
   "metadata": {
    "collapsed": false
   },
   "outputs": [
    {
     "name": "stdout",
     "output_type": "stream",
     "text": [
      "0 0.8842\n",
      "1 0.8969\n",
      "2 0.9031\n",
      "3 0.9076\n",
      "4 0.9102\n",
      "5 0.9118\n",
      "6 0.912\n",
      "7 0.9132\n",
      "8 0.9145\n",
      "9 0.9157\n",
      "10 0.9164\n",
      "11 0.9165\n",
      "12 0.917\n",
      "13 0.9175\n",
      "14 0.9174\n",
      "15 0.9178\n",
      "16 0.9184\n",
      "17 0.9192\n",
      "18 0.9193\n",
      "19 0.9198\n",
      "20 0.9197\n",
      "21 0.92\n",
      "22 0.9203\n",
      "23 0.9205\n",
      "24 0.9207\n",
      "25 0.9211\n",
      "26 0.9208\n",
      "27 0.921\n",
      "28 0.921\n",
      "29 0.9212\n",
      "30 0.9212\n",
      "31 0.9217\n",
      "32 0.9215\n",
      "33 0.9213\n",
      "34 0.9215\n",
      "35 0.9214\n",
      "36 0.9213\n",
      "37 0.9218\n",
      "38 0.9217\n",
      "39 0.9215\n",
      "40 0.9216\n",
      "41 0.9219\n",
      "42 0.9222\n",
      "43 0.9225\n",
      "44 0.9226\n",
      "45 0.9225\n",
      "46 0.9225\n",
      "47 0.9225\n",
      "48 0.9225\n",
      "49 0.9226\n",
      "50 0.9225\n",
      "51 0.9226\n",
      "52 0.9225\n",
      "53 0.9224\n",
      "54 0.9223\n",
      "55 0.9225\n",
      "56 0.9225\n",
      "57 0.9225\n",
      "58 0.9228\n",
      "59 0.9229\n",
      "60 0.9229\n",
      "61 0.923\n",
      "62 0.9231\n",
      "63 0.9233\n",
      "64 0.9234\n",
      "65 0.9236\n",
      "66 0.9236\n",
      "67 0.9236\n",
      "68 0.9237\n",
      "69 0.9235\n",
      "70 0.9235\n",
      "71 0.9235\n",
      "72 0.9235\n",
      "73 0.9235\n",
      "74 0.9236\n",
      "75 0.9236\n",
      "76 0.9235\n",
      "77 0.9235\n",
      "78 0.9236\n",
      "79 0.9238\n",
      "80 0.9239\n",
      "81 0.9238\n",
      "82 0.9238\n",
      "83 0.9238\n",
      "84 0.9236\n",
      "85 0.9236\n",
      "86 0.9236\n",
      "87 0.9238\n",
      "88 0.9238\n",
      "89 0.9238\n",
      "90 0.9237\n",
      "91 0.9236\n",
      "92 0.9235\n",
      "93 0.9235\n",
      "94 0.9237\n",
      "95 0.9237\n",
      "96 0.9237\n",
      "97 0.9237\n",
      "98 0.9237\n",
      "99 0.9237\n"
     ]
    }
   ],
   "source": [
    "# Launch the graph in a session\n",
    "with tf.Session() as sess:\n",
    "    # you need to initialize all variables\n",
    "    tf.initialize_all_variables().run()\n",
    "\n",
    "    for i in range(100):\n",
    "        for start, end in zip(range(0, len(trX), 128), range(128, len(trX)+1, 128)):\n",
    "            sess.run(train_op, feed_dict={X: trX[start:end], Y: trY[start:end]})\n",
    "        print(i, np.mean(np.argmax(teY, axis=1) ==\n",
    "                         sess.run(predict_op, feed_dict={X: teX})))"
   ]
  }
 ],
 "metadata": {
  "kernelspec": {
   "display_name": "Python 3",
   "language": "python",
   "name": "python3"
  },
  "language_info": {
   "codemirror_mode": {
    "name": "ipython",
    "version": 3
   },
   "file_extension": ".py",
   "mimetype": "text/x-python",
   "name": "python",
   "nbconvert_exporter": "python",
   "pygments_lexer": "ipython3",
   "version": "3.5.2"
  }
 },
 "nbformat": 4,
 "nbformat_minor": 1
}
