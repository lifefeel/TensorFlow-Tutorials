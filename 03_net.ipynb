{
 "cells": [
  {
   "cell_type": "code",
   "execution_count": 1,
   "metadata": {
    "collapsed": true
   },
   "outputs": [],
   "source": [
    "import tensorflow as tf\n",
    "import numpy as np\n",
    "from tensorflow.examples.tutorials.mnist import input_data"
   ]
  },
  {
   "cell_type": "code",
   "execution_count": 2,
   "metadata": {
    "collapsed": false
   },
   "outputs": [
    {
     "name": "stdout",
     "output_type": "stream",
     "text": [
      "Extracting MNIST_data/train-images-idx3-ubyte.gz\n",
      "Extracting MNIST_data/train-labels-idx1-ubyte.gz\n",
      "Extracting MNIST_data/t10k-images-idx3-ubyte.gz\n",
      "Extracting MNIST_data/t10k-labels-idx1-ubyte.gz\n"
     ]
    }
   ],
   "source": [
    "def init_weights(shape):\n",
    "    return tf.Variable(tf.random_normal(shape, stddev=0.01))\n",
    "\n",
    "def model(X, w_h, w_o):\n",
    "    h = tf.nn.sigmoid(tf.matmul(X, w_h)) # this is a basic mlp, think 2 stacked logistic regressions\n",
    "    return tf.matmul(h, w_o) # note that we dont take the softmax at the end because our cost fn does that for us\n",
    "\n",
    "mnist = input_data.read_data_sets(\"MNIST_data/\", one_hot=True)\n",
    "trX, trY, teX, teY = mnist.train.images, mnist.train.labels, mnist.test.images, mnist.test.labels"
   ]
  },
  {
   "cell_type": "code",
   "execution_count": 3,
   "metadata": {
    "collapsed": true
   },
   "outputs": [],
   "source": [
    "X = tf.placeholder(\"float\", [None, 784])\n",
    "Y = tf.placeholder(\"float\", [None, 10])\n",
    "\n",
    "w_h = init_weights([784, 625]) # create symbolic variables\n",
    "w_o = init_weights([625, 10])\n",
    "\n",
    "py_x = model(X, w_h, w_o)\n",
    "\n",
    "cost = tf.reduce_mean(tf.nn.softmax_cross_entropy_with_logits(py_x, Y)) # compute costs\n",
    "train_op = tf.train.GradientDescentOptimizer(0.05).minimize(cost) # construct an optimizer\n",
    "predict_op = tf.argmax(py_x, 1)"
   ]
  },
  {
   "cell_type": "code",
   "execution_count": 4,
   "metadata": {
    "collapsed": false
   },
   "outputs": [
    {
     "name": "stdout",
     "output_type": "stream",
     "text": [
      "0 0.6884\n",
      "1 0.8214\n",
      "2 0.8597\n",
      "3 0.8801\n",
      "4 0.8867\n",
      "5 0.8933\n",
      "6 0.8971\n",
      "7 0.9004\n",
      "8 0.9029\n",
      "9 0.9054\n",
      "10 0.9075\n",
      "11 0.9095\n",
      "12 0.9108\n",
      "13 0.9122\n",
      "14 0.9138\n",
      "15 0.9146\n",
      "16 0.9153\n",
      "17 0.9162\n",
      "18 0.9173\n",
      "19 0.9179\n",
      "20 0.9186\n",
      "21 0.9188\n",
      "22 0.9192\n",
      "23 0.9193\n",
      "24 0.9199\n",
      "25 0.9203\n",
      "26 0.9208\n",
      "27 0.9209\n",
      "28 0.9212\n",
      "29 0.9218\n",
      "30 0.9223\n",
      "31 0.9231\n",
      "32 0.9236\n",
      "33 0.9235\n",
      "34 0.9245\n",
      "35 0.9254\n",
      "36 0.9257\n",
      "37 0.9263\n",
      "38 0.9268\n",
      "39 0.927\n",
      "40 0.9271\n",
      "41 0.9272\n",
      "42 0.9276\n",
      "43 0.9283\n",
      "44 0.9289\n",
      "45 0.9291\n",
      "46 0.9297\n",
      "47 0.9304\n",
      "48 0.9313\n",
      "49 0.9314\n",
      "50 0.9317\n",
      "51 0.9324\n",
      "52 0.9333\n",
      "53 0.934\n",
      "54 0.9346\n",
      "55 0.9353\n",
      "56 0.9356\n",
      "57 0.9363\n",
      "58 0.9372\n",
      "59 0.9379\n",
      "60 0.9387\n",
      "61 0.9393\n",
      "62 0.9392\n",
      "63 0.9397\n",
      "64 0.9403\n",
      "65 0.9406\n",
      "66 0.9409\n",
      "67 0.9409\n",
      "68 0.9413\n",
      "69 0.9417\n",
      "70 0.9419\n",
      "71 0.9424\n",
      "72 0.943\n",
      "73 0.944\n",
      "74 0.9442\n",
      "75 0.9449\n",
      "76 0.9456\n",
      "77 0.9465\n",
      "78 0.9468\n",
      "79 0.9474\n",
      "80 0.9481\n",
      "81 0.9486\n",
      "82 0.9492\n",
      "83 0.9494\n",
      "84 0.9496\n",
      "85 0.9507\n",
      "86 0.9507\n",
      "87 0.9513\n",
      "88 0.9519\n",
      "89 0.9524\n",
      "90 0.9525\n",
      "91 0.9529\n",
      "92 0.9534\n",
      "93 0.9537\n",
      "94 0.9543\n",
      "95 0.9548\n",
      "96 0.9547\n",
      "97 0.9548\n",
      "98 0.9549\n",
      "99 0.9549\n"
     ]
    }
   ],
   "source": [
    "# Launch the graph in a session\n",
    "with tf.Session() as sess:\n",
    "    # you need to initialize all variables\n",
    "    tf.initialize_all_variables().run()\n",
    "\n",
    "    for i in range(100):\n",
    "        for start, end in zip(range(0, len(trX), 128), range(128, len(trX)+1, 128)):\n",
    "            sess.run(train_op, feed_dict={X: trX[start:end], Y: trY[start:end]})\n",
    "        print(i, np.mean(np.argmax(teY, axis=1) ==\n",
    "                         sess.run(predict_op, feed_dict={X: teX})))"
   ]
  }
 ],
 "metadata": {
  "kernelspec": {
   "display_name": "Python 3",
   "language": "python",
   "name": "python3"
  },
  "language_info": {
   "codemirror_mode": {
    "name": "ipython",
    "version": 3
   },
   "file_extension": ".py",
   "mimetype": "text/x-python",
   "name": "python",
   "nbconvert_exporter": "python",
   "pygments_lexer": "ipython3",
   "version": "3.5.2"
  }
 },
 "nbformat": 4,
 "nbformat_minor": 1
}
